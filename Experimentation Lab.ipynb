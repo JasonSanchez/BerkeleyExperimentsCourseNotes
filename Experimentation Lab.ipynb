{
 "cells": [
  {
   "cell_type": "code",
   "execution_count": 87,
   "metadata": {
    "collapsed": false
   },
   "outputs": [],
   "source": [
    "%matplotlib inline\n",
    "\n",
    "import pandas as pd\n",
    "import numpy as np\n",
    "import matplotlib.pyplot as plt"
   ]
  },
  {
   "cell_type": "code",
   "execution_count": 119,
   "metadata": {
    "collapsed": true
   },
   "outputs": [],
   "source": [
    "outcomes = np.array([500, 100, 100, 50, 25, 25, 0, 0, 0, 0, 25, 20 ,15, 15, 10, 5, 5, 5, 0, 0])\n",
    "treatment = np.array([1]*10 + [0]*10)"
   ]
  },
  {
   "cell_type": "code",
   "execution_count": 120,
   "metadata": {
    "collapsed": true
   },
   "outputs": [],
   "source": [
    "def sharp_null_hypothesis_test(outcomes, treatment, iterations=100):\n",
    "    \"\"\"\n",
    "    outcomes: A 1D array of numeric outcomes\n",
    "    treatment: A 1D array of binary values, where 1 = treatment\n",
    "    iterations: The number of times to calculate the difference between\n",
    "        randomly splitting the outcomes into treatment and control\n",
    "    \"\"\"\n",
    "    # calculate actual difference\n",
    "    treatment_effect = outcomes[treatment == 1].mean()\n",
    "    control_effect = outcomes[treatment == 0].mean()\n",
    "    actual_estimated_effect = treatment_effect - control_effect\n",
    "    print(\"Actual estimated effect:\", actual_estimated_effect)\n",
    "\n",
    "    # Simulate difference with random treatment-control splits\n",
    "    results = []\n",
    "    \n",
    "    for _ in range(iterations):\n",
    "        random_treatment = np.random.permutation(treatment)\n",
    "        rand_treatment_effect = outcomes[random_treatment == 1].mean()\n",
    "        rand_control_effect = outcomes[random_treatment == 0].mean()\n",
    "        rand_estimate_effect = rand_treatment_effect - rand_control_effect\n",
    "        results.append(rand_estimate_effect)\n",
    "    \n",
    "    results = pd.Series(results)\n",
    "    \n",
    "    simulated_p_value = (results >= actual_estimated_effect).mean()\n",
    "    \n",
    "    results.hist(bins=50)\n",
    "    plt.title(\"Simulated p-value: \" + str(simulated_p_value))\n",
    "    plt.axvline(x=actual_estimated_effect, c=\"g\", linewidth=5)\n",
    "    plt.show()"
   ]
  },
  {
   "cell_type": "code",
   "execution_count": 121,
   "metadata": {
    "collapsed": false
   },
   "outputs": [
    {
     "name": "stdout",
     "output_type": "stream",
     "text": [
      "Actual estimated effect: 70.0\n"
     ]
    },
    {
     "data": {
      "image/png": "[encoded data removed]",
      "text/plain": [
       "<matplotlib.figure.Figure at 0x23dd35a10b8>"
      ]
     },
     "metadata": {},
     "output_type": "display_data"
    },
    {
     "name": "stdout",
     "output_type": "stream",
     "text": [
      "Wall time: 4.46 s\n"
     ]
    }
   ],
   "source": [
    "%%time\n",
    "sharp_null_hypothesis_test(outcomes, treatment, iterations=100000)"
   ]
  },
  {
   "cell_type": "code",
   "execution_count": null,
   "metadata": {
    "collapsed": true
   },
   "outputs": [],
   "source": []
  }
 ],
 "metadata": {
  "kernelspec": {
   "display_name": "Python 3",
   "language": "python",
   "name": "python3"
  },
  "language_info": {
   "codemirror_mode": {
    "name": "ipython",
    "version": 3
   },
   "file_extension": ".py",
   "mimetype": "text/x-python",
   "name": "python",
   "nbconvert_exporter": "python",
   "pygments_lexer": "ipython3",
   "version": "3.5.1"
  }
 },
 "nbformat": 4,
 "nbformat_minor": 0
}
